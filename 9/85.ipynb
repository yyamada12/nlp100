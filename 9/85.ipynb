{
  "nbformat": 4,
  "nbformat_minor": 0,
  "metadata": {
    "colab": {
      "name": "85.ipynb",
      "provenance": []
    },
    "kernelspec": {
      "name": "python3",
      "display_name": "Python 3"
    }
  },
  "cells": [
    {
      "cell_type": "code",
      "metadata": {
        "id": "-wHHNRmWX_UZ",
        "colab_type": "code",
        "colab": {}
      },
      "source": [
        "import collections\n",
        "import datetime\n",
        "import numpy as np\n",
        "import pandas as pd\n",
        "import subprocess\n",
        "import tensorflow as tf\n",
        "from tensorflow import keras\n",
        "import time"
      ],
      "execution_count": 0,
      "outputs": []
    },
    {
      "cell_type": "code",
      "metadata": {
        "id": "bp7FrqSEcmAP",
        "colab_type": "code",
        "outputId": "815ad486-2ab8-4f7b-bfd2-e984b16caa50",
        "colab": {
          "base_uri": "https://localhost:8080/",
          "height": 136
        }
      },
      "source": [
        "!wget -P /root/input/ -c \"https://s3.amazonaws.com/dl4j-distribution/GoogleNews-vectors-negative300.bin.gz\""
      ],
      "execution_count": 2,
      "outputs": [
        {
          "output_type": "stream",
          "text": [
            "--2020-05-27 23:39:37--  https://s3.amazonaws.com/dl4j-distribution/GoogleNews-vectors-negative300.bin.gz\n",
            "Resolving s3.amazonaws.com (s3.amazonaws.com)... 52.216.204.69\n",
            "Connecting to s3.amazonaws.com (s3.amazonaws.com)|52.216.204.69|:443... connected.\n",
            "HTTP request sent, awaiting response... 416 Requested Range Not Satisfiable\n",
            "\n",
            "    The file is already fully retrieved; nothing to do.\n",
            "\n"
          ],
          "name": "stdout"
        }
      ]
    },
    {
      "cell_type": "code",
      "metadata": {
        "id": "UWCvkt9UcmxW",
        "colab_type": "code",
        "colab": {}
      },
      "source": [
        "from gensim.models import KeyedVectors"
      ],
      "execution_count": 0,
      "outputs": []
    },
    {
      "cell_type": "code",
      "metadata": {
        "id": "kdvTYmzhcp7M",
        "colab_type": "code",
        "outputId": "625b3af7-8d88-4fcc-eb12-cc321d365d1a",
        "colab": {
          "base_uri": "https://localhost:8080/",
          "height": 71
        }
      },
      "source": [
        "EMBEDDING_FILE = '/root/input/GoogleNews-vectors-negative300.bin.gz' # from above\n",
        "word2vec = KeyedVectors.load_word2vec_format(EMBEDDING_FILE, binary=True)"
      ],
      "execution_count": 4,
      "outputs": [
        {
          "output_type": "stream",
          "text": [
            "/usr/local/lib/python3.6/dist-packages/smart_open/smart_open_lib.py:253: UserWarning: This function is deprecated, use smart_open.open instead. See the migration notes for details: https://github.com/RaRe-Technologies/smart_open/blob/master/README.rst#migrating-to-the-new-open-function\n",
            "  'See the migration notes for details: %s' % _MIGRATION_NOTES_URL\n"
          ],
          "name": "stderr"
        }
      ]
    },
    {
      "cell_type": "code",
      "metadata": {
        "id": "M6EqVQp8erxs",
        "colab_type": "code",
        "colab": {}
      },
      "source": [
        "B = 32"
      ],
      "execution_count": 0,
      "outputs": []
    },
    {
      "cell_type": "code",
      "metadata": {
        "id": "--62DQvPYMFl",
        "colab_type": "code",
        "outputId": "3d8455d9-61f2-4477-8fd8-1cc7953e05b4",
        "colab": {
          "base_uri": "https://localhost:8080/",
          "height": 34
        }
      },
      "source": [
        "subprocess.run([\"rm\", \"-rf\", \"./logs/\"])\n"
      ],
      "execution_count": 6,
      "outputs": [
        {
          "output_type": "execute_result",
          "data": {
            "text/plain": [
              "CompletedProcess(args=['rm', '-rf', './logs/'], returncode=0)"
            ]
          },
          "metadata": {
            "tags": []
          },
          "execution_count": 6
        }
      ]
    },
    {
      "cell_type": "code",
      "metadata": {
        "id": "5EADf5MkYO_f",
        "colab_type": "code",
        "colab": {}
      },
      "source": [
        "def count_words(title_list):\n",
        "    c = collections.Counter(\n",
        "        word for title in title_list for word in title.split())\n",
        "    return {word: i + 1 for i, (word, cnt) in enumerate(c.most_common()) if cnt > 1}\n",
        "\n",
        "\n",
        "def label_encoder(title, word_dict):\n",
        "    return [word_dict.get(word, 0) for word in title.split()]\n"
      ],
      "execution_count": 0,
      "outputs": []
    },
    {
      "cell_type": "code",
      "metadata": {
        "id": "qcTVmcV8YRtU",
        "colab_type": "code",
        "colab": {}
      },
      "source": [
        "train_df = pd.read_table('/content/drive/My Drive/Colab Notebooks/train.txt')\n",
        "valid_df = pd.read_table('/content/drive/My Drive/Colab Notebooks/valid.txt')"
      ],
      "execution_count": 0,
      "outputs": []
    },
    {
      "cell_type": "code",
      "metadata": {
        "id": "eVKUSEy_eVXt",
        "colab_type": "code",
        "colab": {}
      },
      "source": [
        "word_dict = count_words(train_df['TITLE'])\n",
        "num_words = len(word_dict) + 1  # word not in dict is labeled as 0\n"
      ],
      "execution_count": 0,
      "outputs": []
    },
    {
      "cell_type": "code",
      "metadata": {
        "id": "YWgFcsTRehWW",
        "colab_type": "code",
        "colab": {}
      },
      "source": [
        "# label encode and padding with 0\n",
        "train_X = keras.preprocessing.sequence.pad_sequences(\n",
        "    train_df['TITLE'].map(lambda x: label_encoder(x, word_dict)))\n",
        "valid_X = keras.preprocessing.sequence.pad_sequences(\n",
        "    valid_df['TITLE'].map(lambda x: label_encoder(x, word_dict)))\n"
      ],
      "execution_count": 0,
      "outputs": []
    },
    {
      "cell_type": "code",
      "metadata": {
        "id": "p6bY8RzeejpL",
        "colab_type": "code",
        "colab": {}
      },
      "source": [
        "train_y = train_df['CATEGORY'].map({'b': 0, 't': 1, 'e': 2, 'm': 3}).values\n",
        "valid_y = valid_df['CATEGORY'].map({'b': 0, 't': 1, 'e': 2, 'm': 3}).values\n"
      ],
      "execution_count": 0,
      "outputs": []
    },
    {
      "cell_type": "code",
      "metadata": {
        "id": "8eiIGusjhq6p",
        "colab_type": "code",
        "colab": {}
      },
      "source": [
        "def init_emb(word_dict, word2vec):\n",
        "  emb = np.zeros((len(word_dict) + 1, 300))\n",
        "  for k, v in word_dict.items():\n",
        "    try:\n",
        "      emb[v] = word2vec[k]\n",
        "    except:\n",
        "      pass\n",
        "  return emb"
      ],
      "execution_count": 0,
      "outputs": []
    },
    {
      "cell_type": "code",
      "metadata": {
        "id": "eLn22ZDSi2oO",
        "colab_type": "code",
        "colab": {}
      },
      "source": [
        "emb = init_emb(word_dict, word2vec)"
      ],
      "execution_count": 0,
      "outputs": []
    },
    {
      "cell_type": "code",
      "metadata": {
        "id": "Cxh8L67Cek-R",
        "colab_type": "code",
        "colab": {}
      },
      "source": [
        "model = keras.Sequential([\n",
        "    keras.layers.Embedding(num_words, 300, mask_zero=True, embeddings_initializer=tf.constant_initializer(\n",
        "    value=emb\n",
        ")),\n",
        "    keras.layers.Bidirectional(keras.layers.SimpleRNN(50, return_sequences=True)),\n",
        "    keras.layers.Bidirectional(keras.layers.SimpleRNN(50)),\n",
        "    keras.layers.Dense(4, activation='relu')\n",
        "])"
      ],
      "execution_count": 0,
      "outputs": []
    },
    {
      "cell_type": "code",
      "metadata": {
        "id": "mvxbYontenJv",
        "colab_type": "code",
        "colab": {}
      },
      "source": [
        "model.compile(optimizer='sgd',\n",
        "              loss=tf.keras.losses.SparseCategoricalCrossentropy(\n",
        "                  from_logits=True),\n",
        "              metrics=['accuracy'])"
      ],
      "execution_count": 0,
      "outputs": []
    },
    {
      "cell_type": "code",
      "metadata": {
        "id": "lNikFEcFeogm",
        "colab_type": "code",
        "colab": {}
      },
      "source": [
        "log_dir = \"logs/fit/\" + datetime.datetime.now().strftime(\"%Y%m%d-%H%M%S\")\n",
        "tensorboard_callback = tf.keras.callbacks.TensorBoard(\n",
        "    log_dir=log_dir, histogram_freq=1)\n"
      ],
      "execution_count": 0,
      "outputs": []
    },
    {
      "cell_type": "code",
      "metadata": {
        "id": "lnKqEtVlep9Z",
        "colab_type": "code",
        "outputId": "de35f774-07ce-442d-e9ac-cf117dcd29c2",
        "colab": {
          "base_uri": "https://localhost:8080/",
          "height": 394
        }
      },
      "source": [
        "st = time.time()\n",
        "model.fit(train_X, train_y, batch_size=B, epochs=10, validation_data=(valid_X, valid_y),\n",
        "          callbacks=[tensorboard_callback])\n",
        "ed = time.time()\n",
        "print(\"elapsed_time: \" + str(ed - st))"
      ],
      "execution_count": 17,
      "outputs": [
        {
          "output_type": "stream",
          "text": [
            "Epoch 1/10\n",
            "334/334 [==============================] - 94s 281ms/step - loss: 0.7607 - accuracy: 0.7202 - val_loss: 0.5771 - val_accuracy: 0.7931\n",
            "Epoch 2/10\n",
            "334/334 [==============================] - 96s 286ms/step - loss: 0.5432 - accuracy: 0.8019 - val_loss: 0.5261 - val_accuracy: 0.8066\n",
            "Epoch 3/10\n",
            "334/334 [==============================] - 97s 290ms/step - loss: 0.4724 - accuracy: 0.8292 - val_loss: 0.4730 - val_accuracy: 0.8373\n",
            "Epoch 4/10\n",
            "334/334 [==============================] - 92s 276ms/step - loss: 0.4048 - accuracy: 0.8598 - val_loss: 0.4233 - val_accuracy: 0.8613\n",
            "Epoch 5/10\n",
            "334/334 [==============================] - 92s 275ms/step - loss: 0.3520 - accuracy: 0.8792 - val_loss: 0.4565 - val_accuracy: 0.8463\n",
            "Epoch 6/10\n",
            "334/334 [==============================] - 93s 280ms/step - loss: 0.3200 - accuracy: 0.8902 - val_loss: 0.3904 - val_accuracy: 0.8681\n",
            "Epoch 7/10\n",
            "334/334 [==============================] - 93s 278ms/step - loss: 0.2958 - accuracy: 0.9006 - val_loss: 0.3830 - val_accuracy: 0.8756\n",
            "Epoch 8/10\n",
            "334/334 [==============================] - 95s 285ms/step - loss: 0.2740 - accuracy: 0.9083 - val_loss: 0.3835 - val_accuracy: 0.8726\n",
            "Epoch 9/10\n",
            "334/334 [==============================] - 92s 277ms/step - loss: 0.2559 - accuracy: 0.9163 - val_loss: 0.3974 - val_accuracy: 0.8711\n",
            "Epoch 10/10\n",
            "334/334 [==============================] - 92s 275ms/step - loss: 0.2409 - accuracy: 0.9213 - val_loss: 0.3775 - val_accuracy: 0.8786\n",
            "elapsed_time: 943.9155118465424\n"
          ],
          "name": "stdout"
        }
      ]
    },
    {
      "cell_type": "code",
      "metadata": {
        "id": "kjgYh8lkexVX",
        "colab_type": "code",
        "colab": {}
      },
      "source": [
        ""
      ],
      "execution_count": 0,
      "outputs": []
    }
  ]
}