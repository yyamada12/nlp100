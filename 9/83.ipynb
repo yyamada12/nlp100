{
  "nbformat": 4,
  "nbformat_minor": 0,
  "metadata": {
    "colab": {
      "name": "83.ipynb",
      "provenance": [],
      "toc_visible": true
    },
    "kernelspec": {
      "name": "python3",
      "display_name": "Python 3"
    },
    "accelerator": "GPU"
  },
  "cells": [
    {
      "cell_type": "code",
      "metadata": {
        "id": "-wHHNRmWX_UZ",
        "colab_type": "code",
        "colab": {}
      },
      "source": [
        "import collections\n",
        "import datetime\n",
        "import numpy as np\n",
        "import pandas as pd\n",
        "import subprocess\n",
        "import tensorflow as tf\n",
        "from tensorflow import keras"
      ],
      "execution_count": 0,
      "outputs": []
    },
    {
      "cell_type": "code",
      "metadata": {
        "id": "M6EqVQp8erxs",
        "colab_type": "code",
        "colab": {}
      },
      "source": [
        "B = 32"
      ],
      "execution_count": 0,
      "outputs": []
    },
    {
      "cell_type": "code",
      "metadata": {
        "id": "--62DQvPYMFl",
        "colab_type": "code",
        "outputId": "7e67562e-01f3-4ff9-d5c4-758e69e7bf6b",
        "colab": {
          "base_uri": "https://localhost:8080/",
          "height": 34
        }
      },
      "source": [
        "subprocess.run([\"rm\", \"-rf\", \"./logs/\"])\n"
      ],
      "execution_count": 2,
      "outputs": [
        {
          "output_type": "execute_result",
          "data": {
            "text/plain": [
              "CompletedProcess(args=['rm', '-rf', './logs/'], returncode=0)"
            ]
          },
          "metadata": {
            "tags": []
          },
          "execution_count": 2
        }
      ]
    },
    {
      "cell_type": "code",
      "metadata": {
        "id": "5EADf5MkYO_f",
        "colab_type": "code",
        "colab": {}
      },
      "source": [
        "def count_words(title_list):\n",
        "    c = collections.Counter(\n",
        "        word for title in title_list for word in title.split())\n",
        "    return {word: i + 1 for i, (word, cnt) in enumerate(c.most_common()) if cnt > 1}\n",
        "\n",
        "\n",
        "def label_encoder(title, word_dict):\n",
        "    return [word_dict.get(word, 0) for word in title.split()]\n"
      ],
      "execution_count": 0,
      "outputs": []
    },
    {
      "cell_type": "code",
      "metadata": {
        "id": "qcTVmcV8YRtU",
        "colab_type": "code",
        "colab": {}
      },
      "source": [
        "train_df = pd.read_table('/content/drive/My Drive/Colab Notebooks/train.txt')\n",
        "valid_df = pd.read_table('/content/drive/My Drive/Colab Notebooks/valid.txt')"
      ],
      "execution_count": 0,
      "outputs": []
    },
    {
      "cell_type": "code",
      "metadata": {
        "id": "eVKUSEy_eVXt",
        "colab_type": "code",
        "colab": {}
      },
      "source": [
        "word_dict = count_words(train_df['TITLE'])\n",
        "num_words = len(word_dict) + 1  # word not in dict is labeled as 0\n"
      ],
      "execution_count": 0,
      "outputs": []
    },
    {
      "cell_type": "code",
      "metadata": {
        "id": "YWgFcsTRehWW",
        "colab_type": "code",
        "colab": {}
      },
      "source": [
        "# label encode and padding with 0\n",
        "train_X = keras.preprocessing.sequence.pad_sequences(\n",
        "    train_df['TITLE'].map(lambda x: label_encoder(x, word_dict)))\n",
        "valid_X = keras.preprocessing.sequence.pad_sequences(\n",
        "    valid_df['TITLE'].map(lambda x: label_encoder(x, word_dict)))\n"
      ],
      "execution_count": 0,
      "outputs": []
    },
    {
      "cell_type": "code",
      "metadata": {
        "id": "p6bY8RzeejpL",
        "colab_type": "code",
        "colab": {}
      },
      "source": [
        "train_y = train_df['CATEGORY'].map({'b': 0, 't': 1, 'e': 2, 'm': 3}).values\n",
        "valid_y = valid_df['CATEGORY'].map({'b': 0, 't': 1, 'e': 2, 'm': 3}).values\n"
      ],
      "execution_count": 0,
      "outputs": []
    },
    {
      "cell_type": "code",
      "metadata": {
        "id": "Cxh8L67Cek-R",
        "colab_type": "code",
        "colab": {}
      },
      "source": [
        "model = keras.Sequential([\n",
        "    keras.layers.Embedding(num_words+1, 300, mask_zero=True),\n",
        "    keras.layers.SimpleRNN(50),\n",
        "    keras.layers.Dense(4, activation='relu')\n",
        "])"
      ],
      "execution_count": 0,
      "outputs": []
    },
    {
      "cell_type": "code",
      "metadata": {
        "id": "mvxbYontenJv",
        "colab_type": "code",
        "colab": {}
      },
      "source": [
        "model.compile(optimizer='sgd',\n",
        "              loss=tf.keras.losses.SparseCategoricalCrossentropy(\n",
        "                  from_logits=True),\n",
        "              metrics=['accuracy'])"
      ],
      "execution_count": 0,
      "outputs": []
    },
    {
      "cell_type": "code",
      "metadata": {
        "id": "lNikFEcFeogm",
        "colab_type": "code",
        "colab": {}
      },
      "source": [
        "log_dir = \"logs/fit/\" + datetime.datetime.now().strftime(\"%Y%m%d-%H%M%S\")\n",
        "tensorboard_callback = tf.keras.callbacks.TensorBoard(\n",
        "    log_dir=log_dir, histogram_freq=1)\n"
      ],
      "execution_count": 0,
      "outputs": []
    },
    {
      "cell_type": "code",
      "metadata": {
        "id": "lnKqEtVlep9Z",
        "colab_type": "code",
        "colab": {
          "base_uri": "https://localhost:8080/",
          "height": 394
        },
        "outputId": "32647488-7349-474e-be91-e1aed1f6c014"
      },
      "source": [
        "model.fit(train_X, train_y, batch_size=B, epochs=10, validation_data=(valid_X, valid_y),\n",
        "          callbacks=[tensorboard_callback])\n"
      ],
      "execution_count": 13,
      "outputs": [
        {
          "output_type": "stream",
          "text": [
            "Epoch 1/10\n",
            "334/334 [==============================] - 98s 294ms/step - loss: 1.1295 - accuracy: 0.5253 - val_loss: 0.9887 - val_accuracy: 0.6267\n",
            "Epoch 2/10\n",
            "334/334 [==============================] - 96s 288ms/step - loss: 0.9497 - accuracy: 0.6505 - val_loss: 1.0722 - val_accuracy: 0.5667\n",
            "Epoch 3/10\n",
            "334/334 [==============================] - 99s 295ms/step - loss: 0.8487 - accuracy: 0.7009 - val_loss: 0.8103 - val_accuracy: 0.7294\n",
            "Epoch 4/10\n",
            "334/334 [==============================] - 97s 291ms/step - loss: 0.7792 - accuracy: 0.7259 - val_loss: 0.8344 - val_accuracy: 0.7076\n",
            "Epoch 5/10\n",
            "334/334 [==============================] - 97s 291ms/step - loss: 0.7057 - accuracy: 0.7492 - val_loss: 0.6573 - val_accuracy: 0.7714\n",
            "Epoch 6/10\n",
            "334/334 [==============================] - 97s 290ms/step - loss: 0.6429 - accuracy: 0.7711 - val_loss: 0.6141 - val_accuracy: 0.7939\n",
            "Epoch 7/10\n",
            "334/334 [==============================] - 96s 288ms/step - loss: 0.5892 - accuracy: 0.7900 - val_loss: 0.5754 - val_accuracy: 0.7999\n",
            "Epoch 8/10\n",
            "334/334 [==============================] - 98s 293ms/step - loss: 0.5274 - accuracy: 0.8114 - val_loss: 0.6510 - val_accuracy: 0.7676\n",
            "Epoch 9/10\n",
            "334/334 [==============================] - 96s 289ms/step - loss: 0.4872 - accuracy: 0.8262 - val_loss: 0.5295 - val_accuracy: 0.8171\n",
            "Epoch 10/10\n",
            "334/334 [==============================] - 96s 288ms/step - loss: 0.4505 - accuracy: 0.8395 - val_loss: 0.6872 - val_accuracy: 0.7751\n"
          ],
          "name": "stdout"
        },
        {
          "output_type": "execute_result",
          "data": {
            "text/plain": [
              "<tensorflow.python.keras.callbacks.History at 0x7fbf0df48588>"
            ]
          },
          "metadata": {
            "tags": []
          },
          "execution_count": 13
        }
      ]
    },
    {
      "cell_type": "code",
      "metadata": {
        "id": "kjgYh8lkexVX",
        "colab_type": "code",
        "colab": {}
      },
      "source": [
        ""
      ],
      "execution_count": 0,
      "outputs": []
    }
  ]
}