{
  "nbformat": 4,
  "nbformat_minor": 0,
  "metadata": {
    "colab": {
      "name": "84.ipynb",
      "provenance": []
    },
    "kernelspec": {
      "name": "python3",
      "display_name": "Python 3"
    }
  },
  "cells": [
    {
      "cell_type": "code",
      "metadata": {
        "id": "-wHHNRmWX_UZ",
        "colab_type": "code",
        "colab": {}
      },
      "source": [
        "import collections\n",
        "import datetime\n",
        "import numpy as np\n",
        "import pandas as pd\n",
        "import subprocess\n",
        "import tensorflow as tf\n",
        "from tensorflow import keras\n",
        "import time"
      ],
      "execution_count": 0,
      "outputs": []
    },
    {
      "cell_type": "code",
      "metadata": {
        "id": "bp7FrqSEcmAP",
        "colab_type": "code",
        "colab": {
          "base_uri": "https://localhost:8080/",
          "height": 204
        },
        "outputId": "6206a53a-23ef-41ad-a4d9-28685ed2d078"
      },
      "source": [
        "!wget -P /root/input/ -c \"https://s3.amazonaws.com/dl4j-distribution/GoogleNews-vectors-negative300.bin.gz\""
      ],
      "execution_count": 2,
      "outputs": [
        {
          "output_type": "stream",
          "text": [
            "--2020-05-27 00:58:18--  https://s3.amazonaws.com/dl4j-distribution/GoogleNews-vectors-negative300.bin.gz\n",
            "Resolving s3.amazonaws.com (s3.amazonaws.com)... 52.216.146.197\n",
            "Connecting to s3.amazonaws.com (s3.amazonaws.com)|52.216.146.197|:443... connected.\n",
            "HTTP request sent, awaiting response... 200 OK\n",
            "Length: 1647046227 (1.5G) [application/x-gzip]\n",
            "Saving to: ‘/root/input/GoogleNews-vectors-negative300.bin.gz’\n",
            "\n",
            "GoogleNews-vectors- 100%[===================>]   1.53G  77.9MB/s    in 20s     \n",
            "\n",
            "2020-05-27 00:58:38 (77.3 MB/s) - ‘/root/input/GoogleNews-vectors-negative300.bin.gz’ saved [1647046227/1647046227]\n",
            "\n"
          ],
          "name": "stdout"
        }
      ]
    },
    {
      "cell_type": "code",
      "metadata": {
        "id": "UWCvkt9UcmxW",
        "colab_type": "code",
        "colab": {}
      },
      "source": [
        "from gensim.models import KeyedVectors"
      ],
      "execution_count": 0,
      "outputs": []
    },
    {
      "cell_type": "code",
      "metadata": {
        "id": "kdvTYmzhcp7M",
        "colab_type": "code",
        "colab": {
          "base_uri": "https://localhost:8080/",
          "height": 71
        },
        "outputId": "f884431c-f57a-4e4f-be83-18047cf0d725"
      },
      "source": [
        "EMBEDDING_FILE = '/root/input/GoogleNews-vectors-negative300.bin.gz' # from above\n",
        "word2vec = KeyedVectors.load_word2vec_format(EMBEDDING_FILE, binary=True)"
      ],
      "execution_count": 4,
      "outputs": [
        {
          "output_type": "stream",
          "text": [
            "/usr/local/lib/python3.6/dist-packages/smart_open/smart_open_lib.py:253: UserWarning: This function is deprecated, use smart_open.open instead. See the migration notes for details: https://github.com/RaRe-Technologies/smart_open/blob/master/README.rst#migrating-to-the-new-open-function\n",
            "  'See the migration notes for details: %s' % _MIGRATION_NOTES_URL\n"
          ],
          "name": "stderr"
        }
      ]
    },
    {
      "cell_type": "code",
      "metadata": {
        "id": "M6EqVQp8erxs",
        "colab_type": "code",
        "colab": {}
      },
      "source": [
        "B = 32"
      ],
      "execution_count": 0,
      "outputs": []
    },
    {
      "cell_type": "code",
      "metadata": {
        "id": "--62DQvPYMFl",
        "colab_type": "code",
        "outputId": "77b28350-bbda-4b41-f590-7418ffd0e830",
        "colab": {
          "base_uri": "https://localhost:8080/",
          "height": 34
        }
      },
      "source": [
        "subprocess.run([\"rm\", \"-rf\", \"./logs/\"])\n"
      ],
      "execution_count": 6,
      "outputs": [
        {
          "output_type": "execute_result",
          "data": {
            "text/plain": [
              "CompletedProcess(args=['rm', '-rf', './logs/'], returncode=0)"
            ]
          },
          "metadata": {
            "tags": []
          },
          "execution_count": 6
        }
      ]
    },
    {
      "cell_type": "code",
      "metadata": {
        "id": "5EADf5MkYO_f",
        "colab_type": "code",
        "colab": {}
      },
      "source": [
        "def count_words(title_list):\n",
        "    c = collections.Counter(\n",
        "        word for title in title_list for word in title.split())\n",
        "    return {word: i + 1 for i, (word, cnt) in enumerate(c.most_common()) if cnt > 1}\n",
        "\n",
        "\n",
        "def label_encoder(title, word_dict):\n",
        "    return [word_dict.get(word, 0) for word in title.split()]\n"
      ],
      "execution_count": 0,
      "outputs": []
    },
    {
      "cell_type": "code",
      "metadata": {
        "id": "qcTVmcV8YRtU",
        "colab_type": "code",
        "colab": {}
      },
      "source": [
        "train_df = pd.read_table('/content/drive/My Drive/Colab Notebooks/train.txt')\n",
        "valid_df = pd.read_table('/content/drive/My Drive/Colab Notebooks/valid.txt')"
      ],
      "execution_count": 0,
      "outputs": []
    },
    {
      "cell_type": "code",
      "metadata": {
        "id": "eVKUSEy_eVXt",
        "colab_type": "code",
        "colab": {}
      },
      "source": [
        "word_dict = count_words(train_df['TITLE'])\n",
        "num_words = len(word_dict) + 1  # word not in dict is labeled as 0\n"
      ],
      "execution_count": 0,
      "outputs": []
    },
    {
      "cell_type": "code",
      "metadata": {
        "id": "YWgFcsTRehWW",
        "colab_type": "code",
        "colab": {}
      },
      "source": [
        "# label encode and padding with 0\n",
        "train_X = keras.preprocessing.sequence.pad_sequences(\n",
        "    train_df['TITLE'].map(lambda x: label_encoder(x, word_dict)))\n",
        "valid_X = keras.preprocessing.sequence.pad_sequences(\n",
        "    valid_df['TITLE'].map(lambda x: label_encoder(x, word_dict)))\n"
      ],
      "execution_count": 0,
      "outputs": []
    },
    {
      "cell_type": "code",
      "metadata": {
        "id": "p6bY8RzeejpL",
        "colab_type": "code",
        "colab": {}
      },
      "source": [
        "train_y = train_df['CATEGORY'].map({'b': 0, 't': 1, 'e': 2, 'm': 3}).values\n",
        "valid_y = valid_df['CATEGORY'].map({'b': 0, 't': 1, 'e': 2, 'm': 3}).values\n"
      ],
      "execution_count": 0,
      "outputs": []
    },
    {
      "cell_type": "code",
      "metadata": {
        "id": "8eiIGusjhq6p",
        "colab_type": "code",
        "colab": {}
      },
      "source": [
        "def init_emb(word_dict, word2vec):\n",
        "  emb = np.zeros((len(word_dict) + 1, 300))\n",
        "  for k, v in word_dict.items():\n",
        "    try:\n",
        "      emb[v] = word2vec[k]\n",
        "    except:\n",
        "      pass\n",
        "  return emb"
      ],
      "execution_count": 0,
      "outputs": []
    },
    {
      "cell_type": "code",
      "metadata": {
        "id": "eLn22ZDSi2oO",
        "colab_type": "code",
        "colab": {}
      },
      "source": [
        "emb = init_emb(word_dict, word2vec)"
      ],
      "execution_count": 0,
      "outputs": []
    },
    {
      "cell_type": "code",
      "metadata": {
        "id": "Cxh8L67Cek-R",
        "colab_type": "code",
        "colab": {}
      },
      "source": [
        "model = keras.Sequential([\n",
        "    keras.layers.Embedding(num_words, 300, mask_zero=True, embeddings_initializer=tf.constant_initializer(\n",
        "    value=emb\n",
        ")),\n",
        "    keras.layers.SimpleRNN(50),\n",
        "    keras.layers.Dense(4, activation='relu')\n",
        "])"
      ],
      "execution_count": 0,
      "outputs": []
    },
    {
      "cell_type": "code",
      "metadata": {
        "id": "mvxbYontenJv",
        "colab_type": "code",
        "colab": {}
      },
      "source": [
        "model.compile(optimizer='sgd',\n",
        "              loss=tf.keras.losses.SparseCategoricalCrossentropy(\n",
        "                  from_logits=True),\n",
        "              metrics=['accuracy'])"
      ],
      "execution_count": 0,
      "outputs": []
    },
    {
      "cell_type": "code",
      "metadata": {
        "id": "lNikFEcFeogm",
        "colab_type": "code",
        "colab": {}
      },
      "source": [
        "log_dir = \"logs/fit/\" + datetime.datetime.now().strftime(\"%Y%m%d-%H%M%S\")\n",
        "tensorboard_callback = tf.keras.callbacks.TensorBoard(\n",
        "    log_dir=log_dir, histogram_freq=1)\n"
      ],
      "execution_count": 0,
      "outputs": []
    },
    {
      "cell_type": "code",
      "metadata": {
        "id": "lnKqEtVlep9Z",
        "colab_type": "code",
        "outputId": "5f1df13b-747e-4b93-d79e-5b4684e3a64a",
        "colab": {
          "base_uri": "https://localhost:8080/",
          "height": 374
        }
      },
      "source": [
        "st = time.time()\n",
        "model.fit(train_X, train_y, batch_size=B, epochs=10, validation_data=(valid_X, valid_y),\n",
        "          callbacks=[tensorboard_callback])\n",
        "ed = time.time()\n",
        "print(\"elapsed_time: \" + str(ed - st))"
      ],
      "execution_count": 17,
      "outputs": [
        {
          "output_type": "stream",
          "text": [
            "Epoch 1/10\n",
            "334/334 [==============================] - 37s 110ms/step - loss: 0.8573 - accuracy: 0.6944 - val_loss: 0.6424 - val_accuracy: 0.7894\n",
            "Epoch 2/10\n",
            "334/334 [==============================] - 40s 118ms/step - loss: 0.6341 - accuracy: 0.7767 - val_loss: 0.5693 - val_accuracy: 0.8058\n",
            "Epoch 3/10\n",
            "334/334 [==============================] - 42s 125ms/step - loss: 0.5527 - accuracy: 0.7993 - val_loss: 0.5244 - val_accuracy: 0.8073\n",
            "Epoch 4/10\n",
            "334/334 [==============================] - 39s 116ms/step - loss: 0.4877 - accuracy: 0.8213 - val_loss: 0.4910 - val_accuracy: 0.8231\n",
            "Epoch 5/10\n",
            "334/334 [==============================] - 39s 116ms/step - loss: 0.4349 - accuracy: 0.8489 - val_loss: 0.4428 - val_accuracy: 0.8433\n",
            "Epoch 6/10\n",
            "334/334 [==============================] - 41s 122ms/step - loss: 0.3903 - accuracy: 0.8671 - val_loss: 0.4112 - val_accuracy: 0.8531\n",
            "Epoch 7/10\n",
            "334/334 [==============================] - 38s 113ms/step - loss: 0.3580 - accuracy: 0.8797 - val_loss: 0.4011 - val_accuracy: 0.8606\n",
            "Epoch 8/10\n",
            "334/334 [==============================] - 39s 115ms/step - loss: 0.3340 - accuracy: 0.8862 - val_loss: 0.3940 - val_accuracy: 0.8651\n",
            "Epoch 9/10\n",
            "334/334 [==============================] - 38s 112ms/step - loss: 0.3163 - accuracy: 0.8955 - val_loss: 0.3907 - val_accuracy: 0.8703\n",
            "Epoch 10/10\n",
            "334/334 [==============================] - 40s 120ms/step - loss: 0.3001 - accuracy: 0.8981 - val_loss: 0.3870 - val_accuracy: 0.8703\n",
            "elapsed_time: 394.8299114704132\n"
          ],
          "name": "stdout"
        }
      ]
    },
    {
      "cell_type": "code",
      "metadata": {
        "id": "kjgYh8lkexVX",
        "colab_type": "code",
        "colab": {}
      },
      "source": [
        ""
      ],
      "execution_count": 0,
      "outputs": []
    }
  ]
}