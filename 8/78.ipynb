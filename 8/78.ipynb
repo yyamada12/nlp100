{
  "nbformat": 4,
  "nbformat_minor": 0,
  "metadata": {
    "colab": {
      "name": "78.ipynb",
      "provenance": []
    },
    "kernelspec": {
      "name": "python3",
      "display_name": "Python 3"
    },
    "accelerator": "GPU"
  },
  "cells": [
    {
      "cell_type": "code",
      "metadata": {
        "id": "friXLPenXCmy",
        "colab_type": "code",
        "colab": {}
      },
      "source": [
        "import datetime\n",
        "import numpy as np\n",
        "import subprocess\n",
        "import tensorflow as tf\n",
        "from tensorflow import keras\n",
        "import time\n",
        "\n",
        "# remove old log files\n",
        "subprocess.run([\"rm\", \"-rf\", \"./logs/\"])\n",
        "\n",
        "# load data\n",
        "train_X = np.load('/train_X.npy')\n",
        "train_y = np.load('/train_y.npy')\n",
        "valid_X = np.load('/valid_X.npy')\n",
        "valid_y = np.load('/valid_y.npy')\n"
      ],
      "execution_count": 0,
      "outputs": []
    },
    {
      "cell_type": "code",
      "metadata": {
        "id": "XWA19x46XCCD",
        "colab_type": "code",
        "colab": {
          "base_uri": "https://localhost:8080/",
          "height": 34
        },
        "outputId": "d8db4018-a9b9-44f4-8d3e-cd284d57d0f5"
      },
      "source": [
        "tf.test.gpu_device_name()"
      ],
      "execution_count": 2,
      "outputs": [
        {
          "output_type": "execute_result",
          "data": {
            "text/plain": [
              "'/device:GPU:0'"
            ]
          },
          "metadata": {
            "tags": []
          },
          "execution_count": 2
        }
      ]
    },
    {
      "cell_type": "code",
      "metadata": {
        "id": "GJWBnfwkXryH",
        "colab_type": "code",
        "colab": {}
      },
      "source": [
        "# create model\n",
        "\n",
        "def fit_model(batch_size, tensorboard_callback, cp_callback):\n",
        "    model = keras.Sequential([\n",
        "        keras.layers.Dense(4, use_bias=False)\n",
        "    ])\n",
        "    model.compile(optimizer='sgd',\n",
        "                  loss=tf.keras.losses.SparseCategoricalCrossentropy(\n",
        "                      from_logits=True),\n",
        "                  metrics=['accuracy'])\n",
        "    model.fit(train_X, train_y, batch_size=batch_size, epochs=1,\n",
        "              validation_data=(valid_X, valid_y),\n",
        "              callbacks=[tensorboard_callback, cp_callback])\n"
      ],
      "execution_count": 0,
      "outputs": []
    },
    {
      "cell_type": "code",
      "metadata": {
        "id": "F3o7lmbXX9f-",
        "colab_type": "code",
        "colab": {}
      },
      "source": [
        "# log settings\n",
        "log_dir = \"logs/fit/\" + datetime.datetime.now().strftime(\"%Y%m%d-%H%M%S\")\n",
        "tensorboard_callback = tf.keras.callbacks.TensorBoard(\n",
        "    log_dir=log_dir, histogram_freq=1)\n",
        "\n",
        "# checkpoint settings\n",
        "checkpoint_path = \"checkpoints/cp-{epoch:04d}.ckpt\"\n",
        "cp_callback = tf.keras.callbacks.ModelCheckpoint(checkpoint_path,\n",
        "                                                 verbose=1)\n"
      ],
      "execution_count": 0,
      "outputs": []
    },
    {
      "cell_type": "code",
      "metadata": {
        "id": "p41CHi9sX_ZY",
        "colab_type": "code",
        "colab": {
          "base_uri": "https://localhost:8080/",
          "height": 496
        },
        "outputId": "b74400bd-6408-4a2c-8496-e3ed5ae62f89"
      },
      "source": [
        "for i in range(4):\n",
        "    start = time.time()\n",
        "    fit_model(2**i, tensorboard_callback, cp_callback)\n",
        "    end = time.time()\n",
        "    print(\"batch_size: \" + str(2**i))\n",
        "    print(\"elapsed time: \" + str(end-start))"
      ],
      "execution_count": 5,
      "outputs": [
        {
          "output_type": "stream",
          "text": [
            "10658/10672 [============================>.] - ETA: 0s - loss: 0.6942 - accuracy: 0.7774\n",
            "Epoch 00001: saving model to checkpoints/cp-0001.ckpt\n",
            "WARNING:tensorflow:From /usr/local/lib/python3.6/dist-packages/tensorflow/python/ops/resource_variable_ops.py:1817: calling BaseResourceVariable.__init__ (from tensorflow.python.ops.resource_variable_ops) with constraint is deprecated and will be removed in a future version.\n",
            "Instructions for updating:\n",
            "If using Keras pass *_constraint arguments to layers.\n",
            "INFO:tensorflow:Assets written to: checkpoints/cp-0001.ckpt/assets\n",
            "10672/10672 [==============================] - 23s 2ms/step - loss: 0.6942 - accuracy: 0.7774 - val_loss: 0.5118 - val_accuracy: 0.8268\n",
            "batch_size: 1\n",
            "elapsed time: 23.44858717918396\n",
            "5330/5336 [============================>.] - ETA: 0s - loss: 0.8074 - accuracy: 0.7600\n",
            "Epoch 00001: saving model to checkpoints/cp-0001.ckpt\n",
            "INFO:tensorflow:Assets written to: checkpoints/cp-0001.ckpt/assets\n",
            "5336/5336 [==============================] - 12s 2ms/step - loss: 0.8078 - accuracy: 0.7598 - val_loss: 0.6106 - val_accuracy: 0.8013\n",
            "batch_size: 2\n",
            "elapsed time: 12.147009134292603\n",
            "2641/2668 [============================>.] - ETA: 0s - loss: 0.9330 - accuracy: 0.7419\n",
            "Epoch 00001: saving model to checkpoints/cp-0001.ckpt\n",
            "INFO:tensorflow:Assets written to: checkpoints/cp-0001.ckpt/assets\n",
            "2668/2668 [==============================] - 6s 2ms/step - loss: 0.9311 - accuracy: 0.7420 - val_loss: 0.7275 - val_accuracy: 0.7916\n",
            "batch_size: 4\n",
            "elapsed time: 6.235826015472412\n",
            "1332/1334 [============================>.] - ETA: 0s - loss: 1.0604 - accuracy: 0.7048\n",
            "Epoch 00001: saving model to checkpoints/cp-0001.ckpt\n",
            "INFO:tensorflow:Assets written to: checkpoints/cp-0001.ckpt/assets\n",
            "1334/1334 [==============================] - 3s 2ms/step - loss: 1.0602 - accuracy: 0.7047 - val_loss: 0.8548 - val_accuracy: 0.7894\n",
            "batch_size: 8\n",
            "elapsed time: 3.3829848766326904\n"
          ],
          "name": "stdout"
        }
      ]
    },
    {
      "cell_type": "code",
      "metadata": {
        "id": "-oTbu7j-Ym5S",
        "colab_type": "code",
        "colab": {}
      },
      "source": [
        ""
      ],
      "execution_count": 0,
      "outputs": []
    }
  ]
}